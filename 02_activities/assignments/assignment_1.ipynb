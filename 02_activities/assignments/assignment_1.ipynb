import json

# Define the modified notebook structure with print statements
notebook_data = {
    "cells": [
        {
            "cell_type": "markdown",
            "id": "7b0bcac6-5086-4f4e-928a-570a9ff7ae58",
            "metadata": {},
            "source": ["# Assignment 1"]
        },
        {
            "cell_type": "code",
            "execution_count": None,
            "id": "4a3485d6-ba58-4660-a983-5680821c5719",
            "metadata": {},
            "outputs": [],
            "source": [
                "# Import standard libraries",
                "import pandas as pd",
                "import numpy as np",
                "import random",
                "import matplotlib.pyplot as plt",
                "import matplotlib.colors as mcolors",
                "from sklearn.preprocessing import StandardScaler",
                "from sklearn.model_selection import train_test_split",
                "from sklearn.neighbors import KNeighborsClassifier",
                "from sklearn.metrics import recall_score, precision_score",
                "from sklearn.model_selection import cross_validate",
                "from sklearn.model_selection import GridSearchCV",
                "from sklearn.metrics import accuracy_score",
                "",
                "print(\"Libraries imported successfully.\")"
            ]
        },
        {
            "cell_type": "code",
            "execution_count": None,
            "id": "a431d282-f9ca-4d5d-8912-71ffc9d8ea19",
            "metadata": {},
            "outputs": [],
            "source": [
                "from sklearn.datasets import load_wine",
                "",
                "# Load the Wine dataset",
                "wine_data = load_wine()",
                "",
                "# Convert to DataFrame",
                "wine_df = pd.DataFrame(wine_data.data, columns=wine_data.feature_names)",
                "",
                "# Bind the 'class' (wine target) to the DataFrame",
                "wine_df['class'] = wine_data.target",
                "",
                "# Display the first 5 rows of the DataFrame",
                "print(wine_df.head())"
            ]
        },
        {
            "cell_type": "code",
            "execution_count": None,
            "id": "56916892",
            "metadata": {},
            "outputs": [],
            "source": [
                "n_observations = wine_df.shape[0]",
                "print(\"Number of observations (rows):\", n_observations)"
            ]
        },
        {
            "cell_type": "code",
            "execution_count": None,
            "id": "df0ef103",
            "metadata": {},
            "outputs": [],
            "source": [
                "n_variables = wine_df.shape[1]",
                "print(\"Number of variables (columns):\", n_variables)"
            ]
        },
        {
            "cell_type": "code",
            "execution_count": None,
            "id": "47989426",
            "metadata": {},
            "outputs": [],
            "source": [
                "type_class = wine_df['class'].dtype",
                "unique_classes = wine_df['class'].unique()",
                "print(\"Variable type of 'class':\", type_class)",
                "print(\"Unique values in 'class':\", unique_classes)"
            ]
        },
        {
            "cell_type": "code",
            "execution_count": None,
            "id": "bd7b0910",
            "metadata": {},
            "outputs": [],
            "source": [
                "n_predictors = wine_df.shape[1] - 1",
                "print(\"Number of predictor variables:\", n_predictors)"
            ]
        },
        {
            "cell_type": "code",
            "execution_count": None,
            "id": "cc899b59",
            "metadata": {},
            "outputs": [],
            "source": [
                "predictors = wine_df.iloc[:, :-1]",
                "scaler = StandardScaler()",
                "predictors_standardized = pd.DataFrame(scaler.fit_transform(predictors), columns=predictors.columns)",
                "print(\"Standardized predictor variables:\\n\", predictors_standardized.head())"
            ]
        },
        {
            "cell_type": "code",
            "execution_count": None,
            "id": "055723a7",
            "metadata": {},
            "outputs": [],
            "source": [
                "random.seed(123)",
                "print(\"Random seed set to 123 for reproducibility.\")"
            ]
        },
        {
            "cell_type": "code",
            "execution_count": None,
            "id": "72c101f2",
            "metadata": {},
            "outputs": [],
            "source": [
                "np.random.seed(123)",
                "X_train, X_test, y_train, y_test = train_test_split(",
                "    predictors_standardized, wine_df['class'], test_size=0.25, random_state=123",
                ")",
                "print(\"Training set shape (X_train, y_train):\", X_train.shape, y_train.shape)",
                "print(\"Testing set shape (X_test, y_test):\", X_test.shape, y_test.shape)"
            ]
        },
        {
            "cell_type": "code",
            "execution_count": None,
            "id": "08818c64",
            "metadata": {},
            "outputs": [],
            "source": [
                "knn = KNeighborsClassifier()",
                "param_grid = {'n_neighbors': list(range(1, 51))}",
                "grid_search = GridSearchCV(knn, param_grid, cv=10, scoring='accuracy', n_jobs=-1)",
                "grid_search.fit(X_train, y_train)",
                "best_n_neighbors = grid_search.best_params_['n_neighbors']",
                "print(\"Best n_neighbors:\", best_n_neighbors)"
            ]
        },
        {
            "cell_type": "code",
            "execution_count": None,
            "id": "ffefa9f2",
            "metadata": {},
            "outputs": [],
            "source": [
                "best_knn = KNeighborsClassifier(n_neighbors=best_n_neighbors)",
                "best_knn.fit(X_train, y_train)",
                "y_pred = best_knn.predict(X_test)",
                "accuracy = accuracy_score(y_test, y_pred)",
                "print(\"Test Set Accuracy:\", accuracy)"
            ]
        }
    ],
    "metadata": {
        "kernelspec": {
            "display_name": "Python 3 (ipykernel)",
            "language": "python",
            "name": "python3"
        },
        "language_info": {
            "codemirror_mode": {"name": "ipython", "version": 3},
            "file_extension": ".py",
            "mimetype": "text/x-python",
            "name": "python",
            "nbconvert_exporter": "python",
            "pygments_lexer": "ipython3",
            "version": "3.11.5"
        }
    },
    "nbformat": 4,
    "nbformat_minor": 5
}

# Save to a JSON file in Jupyter Notebook format
notebook_path = "/mnt/data/LRC_ASSIGNMENT_1_MODIFIED.ipynb"
with open(notebook_path, "w") as f:
    json.dump(notebook_data, f, indent=4)

# Return the file path
notebook_path
