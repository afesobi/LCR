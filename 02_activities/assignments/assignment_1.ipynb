{
 "cells": [
  {
   "cell_type": "markdown",
   "id": "7b0bcac6-5086-4f4e-928a-570a9ff7ae58",
   "metadata": {},
   "source": [
    "# Assignment 1"
   ]
  },
  {
   "cell_type": "code",
   "execution_count": null,
   "id": "4a3485d6-ba58-4660-a983-5680821c5719",
   "metadata": {},
   "outputs": [],
   "source": [
    "# Import standard libraries\n",
    "import pandas as pd\n",
    "import numpy as np\n",
    "import random\n",
    "import matplotlib.pyplot as plt\n",
    "import matplotlib.colors as mcolors\n",
    "from sklearn.preprocessing import StandardScaler\n",
    "from sklearn.model_selection import train_test_split\n",
    "from sklearn.neighbors import KNeighborsClassifier\n",
    "from sklearn.metrics import recall_score, precision_score\n",
    "from sklearn.model_selection import cross_validate\n",
    "from sklearn.model_selection import GridSearchCV\n",
    "from sklearn.metrics import accuracy_score\n"
   ]
  },
  {
   "cell_type": "code",
   "execution_count": null,
   "id": "a431d282-f9ca-4d5d-8912-71ffc9d8ea19",
   "metadata": {},
   "outputs": [],
   "source": [
    "from sklearn.datasets import load_wine\n",
    "\n",
    "# Load the Wine dataset\n",
    "wine_data = load_wine()\n",
    "\n",
    "# Convert to DataFrame\n",
    "wine_df = pd.DataFrame(wine_data.data, columns=wine_data.feature_names)\n",
    "\n",
    "# Bind the 'class' (wine target) to the DataFrame\n",
    "wine_df['class'] = wine_data.target\n",
    "\n",
    "# Display the first five rows of the DataFrame\n",
    "print(wine_df.head())"
   ]
  },
  {
   "cell_type": "code",
   "execution_count": null,
   "id": "56916892",
   "metadata": {},
   "outputs": [],
   "source": [
    "# Number of observations (rows)\n",
    "n_observations = wine_df.shape[0]\n",
    "print(\"Number of observations:\", n_observations)"
   ]
  },
  {
   "cell_type": "code",
   "execution_count": null,
   "id": "df0ef103",
   "metadata": {},
   "outputs": [],
   "source": [
    "# Number of variables (columns)\n",
    "n_variables = wine_df.shape[1]\n",
    "print(\"Number of variables:\", n_variables)"
   ]
  },
  {
   "cell_type": "code",
   "execution_count": null,
   "id": "47989426",
   "metadata": {},
   "outputs": [],
   "source": [
    "# Data type of response variable and unique classes\n",
    "type_class = wine_df['class'].dtype\n",
    "unique_classes = wine_df['class'].unique()\n",
    "print(\"Type of response variable:\", type_class)\n",
    "print(\"Unique classes:\", unique_classes)"
   ]
  },
  {
   "cell_type": "code",
   "execution_count": null,
   "id": "bd7b0910",
   "metadata": {},
   "outputs": [],
   "source": [
    "# Number of predictor variables\n",
    "n_predictors = wine_df.shape[1] - 1\n",
    "print(\"Number of predictor variables:\", n_predictors)"
   ]
  },
  {
   "cell_type": "code",
   "execution_count": null,
   "id": "cc899b59",
   "metadata": {},
   "outputs": [],
   "source": [
    "# Standardizing predictors\n",
    "predictors = wine_df.iloc[:, :-1]\n",
    "scaler = StandardScaler()\n",
    "predictors_standardized = pd.DataFrame(scaler.fit_transform(predictors), columns=predictors.columns)\n",
    "print(predictors_standardized.head())"
   ]
  },
  {
   "cell_type": "code",
   "execution_count": null,
   "id": "72c101f2",
   "metadata": {},
   "outputs": [],
   "source": [
    "# Splitting dataset into train and test\n",
    "X_train, X_test, y_train, y_test = train_test_split(predictors_standardized, wine_df['class'], test_size=0.25, random_state=123)\n",
    "print(\"Training set size:\", X_train.shape, y_train.shape)\n",
    "print(\"Testing set size:\", X_test.shape, y_test.shape)"
   ]
  },
  {
   "cell_type": "code",
   "execution_count": null,
   "id": "08818c64",
   "metadata": {},
   "outputs": [],
   "source": [
    "# KNN Model Initialization and Hyperparameter Tuning\n",
    "knn = KNeighborsClassifier()\n",
    "param_grid = {'n_neighbors': list(range(1, 51))}\n",
    "grid_search = GridSearchCV(knn, param_grid, cv=10, scoring='accuracy', n_jobs=-1)\n",
    "grid_search.fit(X_train, y_train)\n",
    "best_n_neighbors = grid_search.best_params_['n_neighbors']\n",
    "print(\"Best n_neighbors:\", best_n_neighbors)"
   ]
  },
  {
   "cell_type": "code",
   "execution_count": null,
   "id": "ffefa9f2",
   "metadata": {},
   "outputs": [],
   "source": [
    "# Evaluating the model\n",
    "best_knn = KNeighborsClassifier(n_neighbors=best_n_neighbors)\n",
    "best_knn.fit(X_train, y_train)\n",
    "y_pred = best_knn.predict(X_test)\n",
    "accuracy = accuracy_score(y_test, y_pred)\n",
    "print(\"Test Set Accuracy:\", accuracy)"
   ]
  }
 ]
}
